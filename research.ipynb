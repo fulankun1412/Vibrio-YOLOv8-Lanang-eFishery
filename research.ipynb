{
 "cells": [
  {
   "cell_type": "code",
   "execution_count": 2,
   "metadata": {},
   "outputs": [
    {
     "name": "stdout",
     "output_type": "stream",
     "text": [
      "ClearML Task: overwriting (reusing) task id=f84a1314c87946849abc6006a7235837\n",
      "2023-05-11 08:20:08,951 - clearml.Repository Detection - WARNING - Could not read Jupyter Notebook: No module named 'nbconvert'\n",
      "2023-05-11 08:20:08,982 - clearml.Task - INFO - Storing jupyter notebook directly as code\n",
      "ClearML results page: https://app.clear.ml/projects/8e9052522ad44137a215e9722d9ce3d8/experiments/f84a1314c87946849abc6006a7235837/output/log\n",
      "2023-05-11 08:20:30,207 - clearml.storage - INFO - Downloading: 5.00MB / 83.58MB @ 1.11MBs from https://files.clear.ml/OCR%20Model-eFishery/YOLOv8%20Training%20Model%20Vibrio.3c152fda4726421b9d8950ec1627c97a/models/best.pt\n",
      "2023-05-11 08:20:32,841 - clearml.storage - INFO - Downloading: 10.00MB / 83.58MB @ 1.90MBs from https://files.clear.ml/OCR%20Model-eFishery/YOLOv8%20Training%20Model%20Vibrio.3c152fda4726421b9d8950ec1627c97a/models/best.pt\n",
      "2023-05-11 08:20:34,572 - clearml.storage - INFO - Downloading: 15.00MB / 83.58MB @ 2.89MBs from https://files.clear.ml/OCR%20Model-eFishery/YOLOv8%20Training%20Model%20Vibrio.3c152fda4726421b9d8950ec1627c97a/models/best.pt\n",
      "2023-05-11 08:20:36,756 - clearml.storage - INFO - Downloading: 20.00MB / 83.58MB @ 2.29MBs from https://files.clear.ml/OCR%20Model-eFishery/YOLOv8%20Training%20Model%20Vibrio.3c152fda4726421b9d8950ec1627c97a/models/best.pt\n",
      "2023-05-11 08:20:38,932 - clearml.storage - INFO - Downloading: 25.00MB / 83.58MB @ 2.30MBs from https://files.clear.ml/OCR%20Model-eFishery/YOLOv8%20Training%20Model%20Vibrio.3c152fda4726421b9d8950ec1627c97a/models/best.pt\n",
      "2023-05-11 08:20:41,117 - clearml.storage - INFO - Downloading: 30.00MB / 83.58MB @ 2.29MBs from https://files.clear.ml/OCR%20Model-eFishery/YOLOv8%20Training%20Model%20Vibrio.3c152fda4726421b9d8950ec1627c97a/models/best.pt\n",
      "2023-05-11 08:20:43,502 - clearml.storage - INFO - Downloading: 35.00MB / 83.58MB @ 2.10MBs from https://files.clear.ml/OCR%20Model-eFishery/YOLOv8%20Training%20Model%20Vibrio.3c152fda4726421b9d8950ec1627c97a/models/best.pt\n",
      "2023-05-11 08:20:45,690 - clearml.storage - INFO - Downloading: 40.00MB / 83.58MB @ 2.29MBs from https://files.clear.ml/OCR%20Model-eFishery/YOLOv8%20Training%20Model%20Vibrio.3c152fda4726421b9d8950ec1627c97a/models/best.pt\n",
      "2023-05-11 08:20:47,865 - clearml.storage - INFO - Downloading: 45.00MB / 83.58MB @ 2.30MBs from https://files.clear.ml/OCR%20Model-eFishery/YOLOv8%20Training%20Model%20Vibrio.3c152fda4726421b9d8950ec1627c97a/models/best.pt\n",
      "2023-05-11 08:20:50,050 - clearml.storage - INFO - Downloading: 50.00MB / 83.58MB @ 2.29MBs from https://files.clear.ml/OCR%20Model-eFishery/YOLOv8%20Training%20Model%20Vibrio.3c152fda4726421b9d8950ec1627c97a/models/best.pt\n",
      "2023-05-11 08:20:52,229 - clearml.storage - INFO - Downloading: 55.00MB / 83.58MB @ 2.29MBs from https://files.clear.ml/OCR%20Model-eFishery/YOLOv8%20Training%20Model%20Vibrio.3c152fda4726421b9d8950ec1627c97a/models/best.pt\n",
      "2023-05-11 08:20:54,412 - clearml.storage - INFO - Downloading: 60.00MB / 83.58MB @ 2.29MBs from https://files.clear.ml/OCR%20Model-eFishery/YOLOv8%20Training%20Model%20Vibrio.3c152fda4726421b9d8950ec1627c97a/models/best.pt\n",
      "2023-05-11 08:20:56,597 - clearml.storage - INFO - Downloading: 65.00MB / 83.58MB @ 2.29MBs from https://files.clear.ml/OCR%20Model-eFishery/YOLOv8%20Training%20Model%20Vibrio.3c152fda4726421b9d8950ec1627c97a/models/best.pt\n",
      "2023-05-11 08:20:58,955 - clearml.storage - INFO - Downloading: 70.00MB / 83.58MB @ 2.12MBs from https://files.clear.ml/OCR%20Model-eFishery/YOLOv8%20Training%20Model%20Vibrio.3c152fda4726421b9d8950ec1627c97a/models/best.pt\n",
      "2023-05-11 08:21:01,137 - clearml.storage - INFO - Downloading: 75.00MB / 83.58MB @ 2.29MBs from https://files.clear.ml/OCR%20Model-eFishery/YOLOv8%20Training%20Model%20Vibrio.3c152fda4726421b9d8950ec1627c97a/models/best.pt\n",
      "2023-05-11 08:21:03,320 - clearml.storage - INFO - Downloading: 80.00MB / 83.58MB @ 2.29MBs from https://files.clear.ml/OCR%20Model-eFishery/YOLOv8%20Training%20Model%20Vibrio.3c152fda4726421b9d8950ec1627c97a/models/best.pt\n",
      "2023-05-11 08:21:04,881 - clearml.storage - INFO - Downloaded 83.58 MB successfully from https://files.clear.ml/OCR%20Model-eFishery/YOLOv8%20Training%20Model%20Vibrio.3c152fda4726421b9d8950ec1627c97a/models/best.pt , saved to C:/Users/afkaa/.clearml/cache/storage_manager/global/0a8d87daa44900c323b788a27021bcfd.best.pt\n",
      "2023-05-11 08:21:06,024 - clearml.model - INFO - Selected model id: bd7ffa617c5349439209e8cbcf83dda0\n"
     ]
    },
    {
     "name": "stdout",
     "output_type": "stream",
     "text": [
      "ClearML Monitor: Could not detect iteration reporting, falling back to iterations as seconds-from-start\n"
     ]
    }
   ],
   "source": [
    "from ultralytics import YOLO\n",
    "import cv2\n",
    "from collections import OrderedDict\n",
    "import numpy as np\n",
    "import yaml\n",
    "import os\n",
    "\n",
    "os.environ['CLEARML_CONFIG_FILE'] = \"clearml.conf\"\n",
    "\n",
    "from clearml import Task, InputModel\n",
    "\n",
    "with open('config.yaml','r') as f:\n",
    "    configModel = yaml.safe_load(f)\n",
    "\n",
    "task = Task.init(project_name='OCR Model-eFishery', task_name='OCR Detection and Text Extraction', task_type=\"inference\")\n",
    "inputModel = InputModel(project=\"OCR Model-eFishery\", name=configModel[\"model-config\"][\"YOLO-model\"])\n",
    "task.connect(inputModel)\n",
    "pathToModel = inputModel.get_local_copy()\n",
    "\n",
    "model = YOLO(pathToModel)\n",
    "imgDelimiter = cv2.imread(configModel[\"model-config\"][\"delimiter\"])\n",
    "gcv_api_key_path = configModel[\"model-config\"][\"vision-key\"]\n",
    "imgSize = configModel[\"model-config\"][\"image-size\"]"
   ]
  },
  {
   "cell_type": "code",
   "execution_count": 3,
   "metadata": {},
   "outputs": [
    {
     "name": "stdout",
     "output_type": "stream",
     "text": [
      "(3000, 4000, 3)\n"
     ]
    },
    {
     "name": "stderr",
     "output_type": "stream",
     "text": [
      "\n",
      "0: 640x640 22 greens, 30 yellows, 973.7ms\n",
      "Speed: 6.0ms preprocess, 973.7ms inference, 17.0ms postprocess per image at shape (1, 3, 640, 640)\n",
      "Results saved to \u001b[1mruns\\detect\\predict\u001b[0m\n",
      "1 label saved to runs\\detect\\predict\\labels\n"
     ]
    }
   ],
   "source": [
    "img = cv2.imread(\"vibrio/vibrio_mae/3-52-vibrio.jpg\")\n",
    "\n",
    "print(img.shape)\n",
    "\n",
    "scalingH, scalingW = img.shape[0]/imgSize, img.shape[1]/imgSize\n",
    "data = cv2.resize(img, (imgSize, imgSize))\n",
    "\n",
    "results = model.predict(data, imgsz = imgSize,\n",
    "                        conf = configModel[\"model-config\"][\"conf\"], iou = configModel[\"model-config\"][\"iou\"],\n",
    "                        save = configModel[\"model-config\"][\"save-mode\"], save_conf = configModel[\"model-config\"][\"save-mode\"],\n",
    "                        save_crop = configModel[\"model-config\"][\"save-mode\"], save_txt = configModel[\"model-config\"][\"save-mode\"],\n",
    "                        device = configModel[\"model-config\"][\"device-mode\"])"
   ]
  },
  {
   "cell_type": "code",
   "execution_count": 17,
   "metadata": {},
   "outputs": [
    {
     "name": "stdout",
     "output_type": "stream",
     "text": [
      "{0: 'black', 1: 'green', 2: 'yellow'}\n"
     ]
    }
   ],
   "source": [
    "classes = results[0].names\n",
    "print(classes)"
   ]
  },
  {
   "cell_type": "code",
   "execution_count": 14,
   "metadata": {},
   "outputs": [],
   "source": [
    "totalFound = {}\n",
    "for boxes in results[0].boxes:\n",
    "    for box in boxes:\n",
    "        if int(box.cls) in totalFound.keys():\n",
    "            totalFound[int(box.cls)] = totalFound[int(box.cls)] + 1\n",
    "        else:\n",
    "            totalFound[int(box.cls)] = 1"
   ]
  },
  {
   "cell_type": "code",
   "execution_count": 16,
   "metadata": {},
   "outputs": [
    {
     "name": "stdout",
     "output_type": "stream",
     "text": [
      "{2: 30, 1: 22}\n"
     ]
    }
   ],
   "source": [
    "print(totalFound)"
   ]
  },
  {
   "cell_type": "code",
   "execution_count": 20,
   "metadata": {},
   "outputs": [
    {
     "name": "stdout",
     "output_type": "stream",
     "text": [
      "{'green': 22, 'yellow': 30}\n"
     ]
    }
   ],
   "source": [
    "finalDict = {}\n",
    "dictDataEntity = {}\n",
    "orderedDict = OrderedDict(sorted(totalFound.items()))\n",
    "for key, value in orderedDict.items():\n",
    "    for classKey, classValue in classes.items(): \n",
    "        if key == classKey:\n",
    "             finalDict[classValue] = value\n",
    "\n",
    "print(finalDict)"
   ]
  },
  {
   "cell_type": "code",
   "execution_count": 23,
   "metadata": {},
   "outputs": [],
   "source": [
    "for label in classes.values():\n",
    "        if label not in finalDict.keys():\n",
    "            finalDict[label] = \"0\""
   ]
  },
  {
   "cell_type": "code",
   "execution_count": 24,
   "metadata": {},
   "outputs": [
    {
     "data": {
      "text/plain": [
       "{'green': 22, 'yellow': 30, 'black': '0'}"
      ]
     },
     "execution_count": 24,
     "metadata": {},
     "output_type": "execute_result"
    },
    {
     "name": "stdout",
     "output_type": "stream",
     "text": [
      "2023-05-11 09:37:32,100 - clearml.Task - WARNING - Task f84a1314c87946849abc6006a7235837 was reset! if state is consistent we shall terminate.\n"
     ]
    }
   ],
   "source": [
    "finalDict"
   ]
  },
  {
   "cell_type": "code",
   "execution_count": null,
   "metadata": {},
   "outputs": [],
   "source": []
  }
 ],
 "metadata": {
  "kernelspec": {
   "display_name": "vibrioEfishery",
   "language": "python",
   "name": "python3"
  },
  "language_info": {
   "codemirror_mode": {
    "name": "ipython",
    "version": 3
   },
   "file_extension": ".py",
   "mimetype": "text/x-python",
   "name": "python",
   "nbconvert_exporter": "python",
   "pygments_lexer": "ipython3",
   "version": "3.9.13"
  },
  "orig_nbformat": 4
 },
 "nbformat": 4,
 "nbformat_minor": 2
}
